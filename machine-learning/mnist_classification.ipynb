{
  "nbformat": 4,
  "nbformat_minor": 0,
  "metadata": {
    "colab": {
      "provenance": []
    },
    "kernelspec": {
      "name": "python3",
      "display_name": "Python 3"
    },
    "language_info": {
      "name": "python"
    }
  },
  "cells": [
    {
      "cell_type": "code",
      "execution_count": 22,
      "metadata": {
        "id": "68TJh1CoMLGr",
        "colab": {
          "base_uri": "https://localhost:8080/",
          "height": 470
        },
        "outputId": "2be704c9-ae5d-45ae-cf3c-f9a12ee33aca"
      },
      "outputs": [
        {
          "output_type": "execute_result",
          "data": {
            "text/plain": [
              "Text(0.5, 1.0, 'Value: 5')"
            ]
          },
          "metadata": {},
          "execution_count": 22
        },
        {
          "output_type": "display_data",
          "data": {
            "text/plain": [
              "<Figure size 640x480 with 1 Axes>"
            ],
            "image/png": "[encoded data removed]"
          },
          "metadata": {}
        }
      ],
      "source": [
        "from tensorflow import keras\n",
        "import numpy as np\n",
        "import matplotlib.pyplot as plt\n",
        "\n",
        "# Load dataset\n",
        "(x_train, y_train), (x_test, y_test) = keras.datasets.mnist.load_data()\n",
        "x_train, x_test = x_train / 255.0, x_test / 255.0  # from [0,255] to [0,1] -- best for neural networks\n",
        "\n",
        "plt.imshow(x_train[0], cmap=\"gray\")\n",
        "plt.title(f\"Value: {y_train[0]}\")"
      ]
    },
    {
      "cell_type": "code",
      "source": [
        "# MODEL 1: Random guess baseline (choosing random digits 0-9)\n",
        "random_preds = np.random.randint(0, 10, size=y_test.shape)\n",
        "\n",
        "random_accuracy = np.mean(random_preds ==  y_test)\n",
        "print(f\"Random Guessing Accuracy: {random_accuracy:.2%}\")"
      ],
      "metadata": {
        "colab": {
          "base_uri": "https://localhost:8080/"
        },
        "id": "SQM-ZNRmCKJG",
        "outputId": "9d467a54-4035-40c3-c76d-16353bc3f130"
      },
      "execution_count": 23,
      "outputs": [
        {
          "output_type": "stream",
          "name": "stdout",
          "text": [
            "Random Guessing Accuracy: 9.42%\n"
          ]
        }
      ]
    },
    {
      "cell_type": "code",
      "source": [
        "# MODEL 2: basic model with no hidden layers (just input → output)\n",
        "\n",
        "# 1. Define the layers:\n",
        "#  - keras.Sequential groups a linear stack of layers\n",
        "#  - keras.layer.Dense means we connect all 784 numbers in the input to each of the 10 outputs\n",
        "#  - activation.softmax produces a probablity [0,1] for each of the 10 outputs -- needed for classification\n",
        "\n",
        "naive_model = keras.Sequential([\n",
        "    keras.layers.Input(shape=(28, 28)),\n",
        "    keras.layers.Flatten(),  # Converts 28x28 to 1D (784,), as expected by the next layer\n",
        "    keras.layers.Dense(10, activation=\"softmax\") # Directly predicts probabilities for 10 digits\n",
        "])\n",
        "\n",
        "# 2. Compile/Prepare the Model\n",
        "#  - sgd is a (stochastic) gradient descent optimizer to tweak weights during training\n",
        "#  - for the loss function (that the model minimizes during traing),\n",
        "#      sparse means labels are integers, and crossentropy means we compare the probablities to the true class (lower is better)\n",
        "#  - the accuracy is (number of correct predictions) / (total predictions)\n",
        "naive_model.compile(optimizer=\"sgd\", loss=\"sparse_categorical_crossentropy\", metrics=[\"accuracy\"])\n",
        "\n",
        "# 3. Run the model and improve it\n",
        "#  - epochs are the number of times we train on the whole training dataset\n",
        "#  - improved weights are kept from one epoch to the next\n",
        "#  - the outputs shows us the metric + loss, for both training and test data\n",
        "naive_model.fit(x_train, y_train, epochs=5, validation_data=(x_test, y_test))\n",
        "\n",
        "# 4. Print the model accuracy\n",
        "naive_loss, naive_acc = naive_model.evaluate(x_test, y_test, verbose=2)\n",
        "print(f\"Naïve Model Accuracy: {naive_acc:.2%}\")"
      ],
      "metadata": {
        "colab": {
          "base_uri": "https://localhost:8080/"
        },
        "id": "Uiti9kNeCXLO",
        "outputId": "fdff1bf7-a05b-496a-8eee-ddeb01d21793"
      },
      "execution_count": 24,
      "outputs": [
        {
          "output_type": "stream",
          "name": "stdout",
          "text": [
            "Epoch 1/5\n",
            "\u001b[1m1875/1875\u001b[0m \u001b[32m━━━━━━━━━━━━━━━━━━━━\u001b[0m\u001b[37m\u001b[0m \u001b[1m4s\u001b[0m 2ms/step - accuracy: 0.7156 - loss: 1.1241 - val_accuracy: 0.8830 - val_loss: 0.4774\n",
            "Epoch 2/5\n",
            "\u001b[1m1875/1875\u001b[0m \u001b[32m━━━━━━━━━━━━━━━━━━━━\u001b[0m\u001b[37m\u001b[0m \u001b[1m5s\u001b[0m 2ms/step - accuracy: 0.8780 - loss: 0.4777 - val_accuracy: 0.8966 - val_loss: 0.3981\n",
            "Epoch 3/5\n",
            "\u001b[1m1875/1875\u001b[0m \u001b[32m━━━━━━━━━━━━━━━━━━━━\u001b[0m\u001b[37m\u001b[0m \u001b[1m6s\u001b[0m 2ms/step - accuracy: 0.8873 - loss: 0.4163 - val_accuracy: 0.9024 - val_loss: 0.3658\n",
            "Epoch 4/5\n",
            "\u001b[1m1875/1875\u001b[0m \u001b[32m━━━━━━━━━━━━━━━━━━━━\u001b[0m\u001b[37m\u001b[0m \u001b[1m4s\u001b[0m 2ms/step - accuracy: 0.8950 - loss: 0.3825 - val_accuracy: 0.9072 - val_loss: 0.3467\n",
            "Epoch 5/5\n",
            "\u001b[1m1875/1875\u001b[0m \u001b[32m━━━━━━━━━━━━━━━━━━━━\u001b[0m\u001b[37m\u001b[0m \u001b[1m6s\u001b[0m 3ms/step - accuracy: 0.9009 - loss: 0.3633 - val_accuracy: 0.9094 - val_loss: 0.3346\n",
            "313/313 - 0s - 1ms/step - accuracy: 0.9094 - loss: 0.3346\n",
            "Naïve Model Accuracy: 90.94%\n"
          ]
        }
      ]
    },
    {
      "cell_type": "code",
      "source": [
        "# MODEL 3: Simple neural network (NN) (input → layer 1 → output)\n",
        "\n",
        "# 1. Define the three layers\n",
        "#  - note this time we have a middle layer with 128 nodes and a different activation function\n",
        "simple_model = keras.Sequential([\n",
        "    keras.layers.Input(shape=(28, 28)),\n",
        "    keras.layers.Flatten(), # Converts 28x28 to 1D (784,), as expected by the next layer\n",
        "    keras.layers.Dense(128, activation=\"relu\"),\n",
        "    keras.layers.Dense(10, activation=\"softmax\")\n",
        "])\n",
        "\n",
        "# 2. Compile and train the model\n",
        "#  - swap \"sgd\" for \"adam\" and see what happens with the accuracy and speed\n",
        "simple_model.compile(optimizer=\"sgd\", loss=\"sparse_categorical_crossentropy\", metrics=[\"accuracy\"])\n",
        "simple_model.fit(x_train, y_train, epochs=5, validation_data=(x_test, y_test))\n",
        "\n",
        "# 3. Evaluate on test data\n",
        "simple_loss, simple_acc = simple_model.evaluate(x_test, y_test, verbose=2)\n",
        "print(f\"Simple NN Accuracy: {simple_acc:.2%}\")"
      ],
      "metadata": {
        "id": "GqfecngBCGPk",
        "colab": {
          "base_uri": "https://localhost:8080/"
        },
        "outputId": "5cca4add-0e8c-4be9-ea7d-9520dc1d467a"
      },
      "execution_count": 21,
      "outputs": [
        {
          "output_type": "stream",
          "name": "stdout",
          "text": [
            "Epoch 1/5\n",
            "\u001b[1m1875/1875\u001b[0m \u001b[32m━━━━━━━━━━━━━━━━━━━━\u001b[0m\u001b[37m\u001b[0m \u001b[1m7s\u001b[0m 3ms/step - accuracy: 0.7494 - loss: 0.9967 - val_accuracy: 0.9018 - val_loss: 0.3565\n",
            "Epoch 2/5\n",
            "\u001b[1m1875/1875\u001b[0m \u001b[32m━━━━━━━━━━━━━━━━━━━━\u001b[0m\u001b[37m\u001b[0m \u001b[1m9s\u001b[0m 3ms/step - accuracy: 0.9026 - loss: 0.3503 - val_accuracy: 0.9177 - val_loss: 0.2927\n",
            "Epoch 3/5\n",
            "\u001b[1m1875/1875\u001b[0m \u001b[32m━━━━━━━━━━━━━━━━━━━━\u001b[0m\u001b[37m\u001b[0m \u001b[1m6s\u001b[0m 3ms/step - accuracy: 0.9171 - loss: 0.2966 - val_accuracy: 0.9273 - val_loss: 0.2594\n",
            "Epoch 4/5\n",
            "\u001b[1m1875/1875\u001b[0m \u001b[32m━━━━━━━━━━━━━━━━━━━━\u001b[0m\u001b[37m\u001b[0m \u001b[1m5s\u001b[0m 3ms/step - accuracy: 0.9264 - loss: 0.2637 - val_accuracy: 0.9332 - val_loss: 0.2355\n",
            "Epoch 5/5\n",
            "\u001b[1m1875/1875\u001b[0m \u001b[32m━━━━━━━━━━━━━━━━━━━━\u001b[0m\u001b[37m\u001b[0m \u001b[1m6s\u001b[0m 3ms/step - accuracy: 0.9308 - loss: 0.2446 - val_accuracy: 0.9378 - val_loss: 0.2169\n",
            "313/313 - 1s - 2ms/step - accuracy: 0.9378 - loss: 0.2169\n",
            "Simple NN Accuracy: 93.78%\n"
          ]
        }
      ]
    },
    {
      "cell_type": "code",
      "source": [
        "# MODEL 4: Multilayer perceptron (MLP) model (input → layer 1 → layer 2 → output)\n",
        "mlp_model = keras.Sequential([\n",
        "    keras.layers.Input(shape=(28, 28)),\n",
        "    keras.layers.Flatten(),\n",
        "    keras.layers.Dense(128, activation=\"relu\"),\n",
        "    keras.layers.Dense(64, activation=\"relu\"),\n",
        "    keras.layers.Dense(10, activation=\"softmax\")\n",
        "])\n",
        "mlp_model.compile(optimizer=\"adam\", loss=\"sparse_categorical_crossentropy\", metrics=[\"accuracy\"])\n",
        "mlp_model.fit(x_train, y_train, epochs=5, validation_data=(x_test, y_test))\n",
        "mlp_loss, mlp_acc = mlp_model.evaluate(x_test, y_test, verbose=2)\n",
        "print(f\"MLP Accuracy: {mlp_acc:.2%}\")"
      ],
      "metadata": {
        "id": "DTlWtEBCQ7OS",
        "colab": {
          "base_uri": "https://localhost:8080/"
        },
        "outputId": "811d6fb1-e631-4a9d-c07f-6dd64892e89e"
      },
      "execution_count": 25,
      "outputs": [
        {
          "output_type": "stream",
          "name": "stdout",
          "text": [
            "Epoch 1/5\n",
            "\u001b[1m1875/1875\u001b[0m \u001b[32m━━━━━━━━━━━━━━━━━━━━\u001b[0m\u001b[37m\u001b[0m \u001b[1m9s\u001b[0m 4ms/step - accuracy: 0.8739 - loss: 0.4358 - val_accuracy: 0.9608 - val_loss: 0.1262\n",
            "Epoch 2/5\n",
            "\u001b[1m1875/1875\u001b[0m \u001b[32m━━━━━━━━━━━━━━━━━━━━\u001b[0m\u001b[37m\u001b[0m \u001b[1m10s\u001b[0m 4ms/step - accuracy: 0.9665 - loss: 0.1105 - val_accuracy: 0.9720 - val_loss: 0.0874\n",
            "Epoch 3/5\n",
            "\u001b[1m1875/1875\u001b[0m \u001b[32m━━━━━━━━━━━━━━━━━━━━\u001b[0m\u001b[37m\u001b[0m \u001b[1m10s\u001b[0m 4ms/step - accuracy: 0.9774 - loss: 0.0721 - val_accuracy: 0.9728 - val_loss: 0.0864\n",
            "Epoch 4/5\n",
            "\u001b[1m1875/1875\u001b[0m \u001b[32m━━━━━━━━━━━━━━━━━━━━\u001b[0m\u001b[37m\u001b[0m \u001b[1m9s\u001b[0m 3ms/step - accuracy: 0.9818 - loss: 0.0543 - val_accuracy: 0.9784 - val_loss: 0.0731\n",
            "Epoch 5/5\n",
            "\u001b[1m1875/1875\u001b[0m \u001b[32m━━━━━━━━━━━━━━━━━━━━\u001b[0m\u001b[37m\u001b[0m \u001b[1m7s\u001b[0m 4ms/step - accuracy: 0.9866 - loss: 0.0417 - val_accuracy: 0.9776 - val_loss: 0.0759\n",
            "313/313 - 1s - 2ms/step - accuracy: 0.9776 - loss: 0.0759\n",
            "MLP Accuracy: 97.76%\n"
          ]
        }
      ]
    },
    {
      "cell_type": "code",
      "source": [
        "# MODEL 5: Convolutional Neural Network (CNN) -- the best for images, slower to train\n",
        "#  - Conv2D slides 32 little 3×3 windows (filters) over the image to spot features like edges or curves\n",
        "#  - MaxPooling2D shrinks the data by taking the maximum value in each 2×2 patch\n",
        "cnn_model = keras.Sequential([\n",
        "    keras.layers.Input(shape=(28, 28, 1)), # add the channel, i.e., grayscale\n",
        "    keras.layers.Conv2D(32, (3, 3), activation=\"relu\"),\n",
        "    keras.layers.MaxPooling2D((2, 2)),\n",
        "    keras.layers.Flatten(), # Converts (13, 13, 32) to (5408,)\n",
        "    keras.layers.Dense(64, activation=\"relu\"),\n",
        "    keras.layers.Dense(10, activation=\"softmax\")\n",
        "])\n",
        "cnn_model.compile(optimizer=\"adam\", loss=\"sparse_categorical_crossentropy\", metrics=[\"accuracy\"])\n",
        "x_train_cnn = x_train.reshape(-1, 28, 28, 1)  # add grayscale channel\n",
        "x_test_cnn = x_test.reshape(-1, 28, 28, 1) # add grayscale channel\n",
        "cnn_model.fit(x_train_cnn, y_train, epochs=5, validation_data=(x_test_cnn, y_test))\n",
        "cnn_loss, cnn_acc = cnn_model.evaluate(x_test_cnn, y_test, verbose=2)\n",
        "print(f\"CNN Accuracy: {cnn_acc:.2%}\")"
      ],
      "metadata": {
        "colab": {
          "base_uri": "https://localhost:8080/"
        },
        "id": "52D5XWMJa-7M",
        "outputId": "da41256c-908d-4abc-b5fa-c0857ca03744"
      },
      "execution_count": 26,
      "outputs": [
        {
          "output_type": "stream",
          "name": "stdout",
          "text": [
            "Epoch 1/5\n",
            "\u001b[1m1875/1875\u001b[0m \u001b[32m━━━━━━━━━━━━━━━━━━━━\u001b[0m\u001b[37m\u001b[0m \u001b[1m33s\u001b[0m 17ms/step - accuracy: 0.9032 - loss: 0.3307 - val_accuracy: 0.9768 - val_loss: 0.0674\n",
            "Epoch 2/5\n",
            "\u001b[1m1875/1875\u001b[0m \u001b[32m━━━━━━━━━━━━━━━━━━━━\u001b[0m\u001b[37m\u001b[0m \u001b[1m33s\u001b[0m 18ms/step - accuracy: 0.9820 - loss: 0.0614 - val_accuracy: 0.9831 - val_loss: 0.0530\n",
            "Epoch 3/5\n",
            "\u001b[1m1875/1875\u001b[0m \u001b[32m━━━━━━━━━━━━━━━━━━━━\u001b[0m\u001b[37m\u001b[0m \u001b[1m39s\u001b[0m 17ms/step - accuracy: 0.9889 - loss: 0.0390 - val_accuracy: 0.9822 - val_loss: 0.0560\n",
            "Epoch 4/5\n",
            "\u001b[1m1875/1875\u001b[0m \u001b[32m━━━━━━━━━━━━━━━━━━━━\u001b[0m\u001b[37m\u001b[0m \u001b[1m31s\u001b[0m 16ms/step - accuracy: 0.9909 - loss: 0.0282 - val_accuracy: 0.9822 - val_loss: 0.0551\n",
            "Epoch 5/5\n",
            "\u001b[1m1875/1875\u001b[0m \u001b[32m━━━━━━━━━━━━━━━━━━━━\u001b[0m\u001b[37m\u001b[0m \u001b[1m31s\u001b[0m 17ms/step - accuracy: 0.9947 - loss: 0.0173 - val_accuracy: 0.9843 - val_loss: 0.0450\n",
            "313/313 - 2s - 5ms/step - accuracy: 0.9843 - loss: 0.0450\n",
            "CNN Accuracy: 98.43%\n"
          ]
        }
      ]
    },
    {
      "cell_type": "markdown",
      "source": [
        "The best model is 99.75% accuracy."
      ],
      "metadata": {
        "id": "Bf_VYDXZgtNC"
      }
    }
  ]
}